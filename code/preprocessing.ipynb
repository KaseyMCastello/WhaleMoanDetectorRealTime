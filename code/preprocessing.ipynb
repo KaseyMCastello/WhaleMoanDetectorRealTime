{
 "cells": [
  {
   "cell_type": "code",
   "execution_count": 2,
   "metadata": {},
   "outputs": [],
   "source": [
    "import glob\n",
    "import os\n",
    "import pandas as pd\n",
    "import matplotlib.pyplot as plt\n",
    "import numpy as np\n",
    "import sklearn\n",
    "import librosa\n",
    "import torch\n",
    "import random\n",
    "import sys\n",
    "from PIL import Image\n",
    "from scipy.ndimage import median_filter\n",
    "from sklearn.preprocessing import StandardScaler\n",
    "from PIL import Image as im \n",
    "from pathlib import Path"
   ]
  },
  {
   "cell_type": "code",
   "execution_count": null,
   "metadata": {},
   "outputs": [],
   "source": [
    "def draw_img(ax, img_vector, h=141, w=601):\n",
    "    \"\"\"\n",
    "    1. takes img_vector,\n",
    "    2. reshapes into right dimensions,\n",
    "    3. draws the resulting image\n",
    "    \"\"\"\n",
    "    \n",
    "    \n",
    "    ax.imshow( (img_vector).reshape(h,w), cmap=plt.cm.gray)\n",
    "    \n",
    "    plt.xticks(())\n",
    "    plt.yticks(())\n",
    "\n",
    "def draw_img_single(img_vector, h=141, w=601):\n",
    "    \"\"\"\n",
    "    1. takes img_vector,\n",
    "    2. reshapes into right dimensions,\n",
    "    3. draws the resulting image\n",
    "    \"\"\"\n",
    "    \n",
    "    \n",
    "    plt.imshow( (img_vector).reshape(h,w), cmap=plt.cm.gray)\n",
    "    \n",
    "    plt.xticks(())\n",
    "    plt.yticks(())"
   ]
  },
  {
   "cell_type": "code",
   "execution_count": 3,
   "metadata": {},
   "outputs": [],
   "source": [
    "#annotations = pd.read_csv('C:/Users/joon4/OneDrive/Desktop/LotsOfStuff/modified_annotations.csv')\n",
    "annotations = pd.read_csv('L:\\\\Sonobuoy_faster-rCNN_MNA_PCA\\\\labeled_data\\\\spectrograms\\\\CalCOFI\\\\CC201907_annotations.csv')\n",
    "#annotations = pd.read_csv('C:\\\\Users\\\\yoobi\\\\Documents\\\\Capstone\\\\labeled_data\\\\testing\\\\CC0808_annotations.csv')\n",
    "\n",
    "unique_annotation = annotations.drop_duplicates(subset=['spectrogram_path'])\n",
    "\n",
    "annotations_modded = annotations.copy()\n",
    "\n",
    "annotations_modded[\"spectrogram_path\"] = annotations[\"spectrogram_path\"].str.replace('spectrograms', 'Processed_Training_Images', regex=False)\n",
    "#annotations_modded[\"spectrogram_path\"] = annotations[\"spectrogram_path\"].str.replace('testing', 'Processed_Testing_Images', regex=False)\n",
    "\n",
    "#annotations_modded.to_csv(\"C:/Users/joon4/OneDrive/Desktop/Processed_Training_Images/modified_annotations.csv\", index=False)\n",
    "annotations_modded.to_csv(\"L:\\\\Sonobuoy_faster-rCNN_MNA_PCA\\\\labeled_data\\\\spectrograms\\\\CalCOFI\\\\PCA_modified\\\\CC201907_annotations.csv\", index=False)\n",
    "#annotations_modded.to_csv(\"C:/Users/yoobi/Documents/Capstone/labeled_data/Processed_Testing_Images/CC0808_annotations.csv\", index=False)"
   ]
  },
  {
   "cell_type": "code",
   "execution_count": 4,
   "metadata": {},
   "outputs": [],
   "source": [
    "data_matrix = []\n",
    "\n",
    "for index, row in unique_annotation.iterrows():\n",
    "\n",
    "    image = Image.open(row[r\"spectrogram_path\"])\n",
    "\n",
    "    pixel_values = np.array(list(image.getdata()))\n",
    "\n",
    "    data_matrix.append(pixel_values)\n",
    "\n",
    "stacked_specs = np.vstack(data_matrix)"
   ]
  },
  {
   "cell_type": "code",
   "execution_count": 5,
   "metadata": {},
   "outputs": [],
   "source": [
    "scaler = StandardScaler(with_std=False)\n",
    "data_matrix_mod1 = scaler.fit_transform(stacked_specs)\n",
    "original_data = data_matrix_mod1"
   ]
  },
  {
   "cell_type": "code",
   "execution_count": 6,
   "metadata": {},
   "outputs": [],
   "source": [
    "U, S, T = np.linalg.svd(original_data, full_matrices=False)\n",
    "\n",
    "US = U*S\n",
    "\n",
    "svd_data = US @ T\n",
    "\n",
    "svd_data_scaled = scaler.inverse_transform(svd_data)"
   ]
  },
  {
   "cell_type": "code",
   "execution_count": 7,
   "metadata": {},
   "outputs": [],
   "source": [
    "signal_enhanced_features = np.zeros_like(T)\n",
    "\n",
    "for i in range(len(T)):\n",
    "\n",
    "    feature = np.copy(T[i].reshape((141, 601)))\n",
    "\n",
    "    feature = median_filter(feature, size = 3)\n",
    "\n",
    "    for j in range(feature.shape[1]):\n",
    "        column = feature[:, j]\n",
    "        percentile_value = np.percentile(column, 10)\n",
    "        feature[:, j] = column - percentile_value\n",
    "        feature[:, j][feature[:, j] < 0] = 0\n",
    "\n",
    "    signal_enhanced_features[i] = feature.flatten()\n",
    "\n",
    "matrix = US[:, 0:150] @ signal_enhanced_features[0:150, :]\n",
    "matrix = US @ signal_enhanced_features\n",
    "matrix_scaled = scaler.inverse_transform(matrix)\n",
    "matrix_scaled = np.where(matrix_scaled < 0, 0, matrix_scaled)\n",
    "\n",
    "matr_sub = np.zeros_like(matrix_scaled)"
   ]
  },
  {
   "cell_type": "code",
   "execution_count": 16,
   "metadata": {},
   "outputs": [],
   "source": [
    "for i in range(len(matrix_scaled)):\n",
    "\n",
    "    spec = np.copy(matrix_scaled[i].reshape((141, 601)))\n",
    "\n",
    "    for j in range(spec.shape[1]):\n",
    "        column = spec[:, j]\n",
    "        percentile_value = np.percentile(column, 60)\n",
    "        spec[:, j] = column - percentile_value\n",
    "        spec[:, j][spec[:, j] < 0] = 0\n",
    "\n",
    "    matr_sub[i] = spec.flatten()"
   ]
  },
  {
   "cell_type": "code",
   "execution_count": 17,
   "metadata": {},
   "outputs": [],
   "source": [
    "#directory_path = \"C:/Users/joon4/OneDrive/Desktop/Processed_Training_Images\"\n",
    "#directory_path = \"C:/Users/yoobi/Documents/Capstone/labeled_data/Processed_Training_Images\"\n",
    "directory_path = \"L:\\\\Sonobuoy_faster-rCNN_MNA_PCA\\\\labeled_data\\\\spectrograms\\\\CalCOFI\\\\PCA_modified\"\n",
    "\n",
    "filenames = unique_annotation[\"spectrogram_path\"].apply(lambda x: os.path.basename(x)).reset_index(drop=True)\n",
    "\n",
    "for i in range(len(matr_sub)):\n",
    "\n",
    "    processed_image = matr_sub[i].reshape(141, 601)\n",
    "\n",
    "    image = Image.fromarray(processed_image.astype(np.uint8), 'L')\n",
    "\n",
    "    image.save(Path(directory_path) / Path(filenames[i]))"
   ]
  }
 ],
 "metadata": {
  "kernelspec": {
   "display_name": "Python 3 (ipykernel)",
   "language": "python",
   "name": "python3"
  },
  "language_info": {
   "codemirror_mode": {
    "name": "ipython",
    "version": 3
   },
   "file_extension": ".py",
   "mimetype": "text/x-python",
   "name": "python",
   "nbconvert_exporter": "python",
   "pygments_lexer": "ipython3",
   "version": "3.9.19"
  }
 },
 "nbformat": 4,
 "nbformat_minor": 4
}
